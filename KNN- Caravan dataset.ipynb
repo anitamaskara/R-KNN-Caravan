{
 "cells": [
  {
   "cell_type": "code",
   "execution_count": 1,
   "metadata": {},
   "outputs": [
    {
     "name": "stdout",
     "output_type": "stream",
     "text": [
      "package 'ISLR' successfully unpacked and MD5 sums checked\n",
      "\n",
      "The downloaded binary packages are in\n",
      "\tC:\\Users\\aabha.DESKTOP-HG6KK17\\AppData\\Local\\Temp\\RtmpAhUgqH\\downloaded_packages\n"
     ]
    }
   ],
   "source": [
    "install.packages(\"ISLR\")"
   ]
  },
  {
   "cell_type": "code",
   "execution_count": 2,
   "metadata": {},
   "outputs": [],
   "source": [
    "library(ISLR)"
   ]
  },
  {
   "cell_type": "code",
   "execution_count": 3,
   "metadata": {},
   "outputs": [
    {
     "name": "stdout",
     "output_type": "stream",
     "text": [
      "'data.frame':\t5822 obs. of  86 variables:\n",
      " $ MOSTYPE : num  33 37 37 9 40 23 39 33 33 11 ...\n",
      " $ MAANTHUI: num  1 1 1 1 1 1 2 1 1 2 ...\n",
      " $ MGEMOMV : num  3 2 2 3 4 2 3 2 2 3 ...\n",
      " $ MGEMLEEF: num  2 2 2 3 2 1 2 3 4 3 ...\n",
      " $ MOSHOOFD: num  8 8 8 3 10 5 9 8 8 3 ...\n",
      " $ MGODRK  : num  0 1 0 2 1 0 2 0 0 3 ...\n",
      " $ MGODPR  : num  5 4 4 3 4 5 2 7 1 5 ...\n",
      " $ MGODOV  : num  1 1 2 2 1 0 0 0 3 0 ...\n",
      " $ MGODGE  : num  3 4 4 4 4 5 5 2 6 2 ...\n",
      " $ MRELGE  : num  7 6 3 5 7 0 7 7 6 7 ...\n",
      " $ MRELSA  : num  0 2 2 2 1 6 2 2 0 0 ...\n",
      " $ MRELOV  : num  2 2 4 2 2 3 0 0 3 2 ...\n",
      " $ MFALLEEN: num  1 0 4 2 2 3 0 0 3 2 ...\n",
      " $ MFGEKIND: num  2 4 4 3 4 5 3 5 3 2 ...\n",
      " $ MFWEKIND: num  6 5 2 4 4 2 6 4 3 6 ...\n",
      " $ MOPLHOOG: num  1 0 0 3 5 0 0 0 0 0 ...\n",
      " $ MOPLMIDD: num  2 5 5 4 4 5 4 3 1 4 ...\n",
      " $ MOPLLAAG: num  7 4 4 2 0 4 5 6 8 5 ...\n",
      " $ MBERHOOG: num  1 0 0 4 0 2 0 2 1 2 ...\n",
      " $ MBERZELF: num  0 0 0 0 5 0 0 0 1 0 ...\n",
      " $ MBERBOER: num  1 0 0 0 4 0 0 0 0 0 ...\n",
      " $ MBERMIDD: num  2 5 7 3 0 4 4 2 1 3 ...\n",
      " $ MBERARBG: num  5 0 0 1 0 2 1 5 8 3 ...\n",
      " $ MBERARBO: num  2 4 2 2 0 2 5 2 1 3 ...\n",
      " $ MSKA    : num  1 0 0 3 9 2 0 2 1 1 ...\n",
      " $ MSKB1   : num  1 2 5 2 0 2 1 1 1 2 ...\n",
      " $ MSKB2   : num  2 3 0 1 0 2 4 2 0 1 ...\n",
      " $ MSKC    : num  6 5 4 4 0 4 5 5 8 4 ...\n",
      " $ MSKD    : num  1 0 0 0 0 2 0 2 1 2 ...\n",
      " $ MHHUUR  : num  1 2 7 5 4 9 6 0 9 0 ...\n",
      " $ MHKOOP  : num  8 7 2 4 5 0 3 9 0 9 ...\n",
      " $ MAUT1   : num  8 7 7 9 6 5 8 4 5 6 ...\n",
      " $ MAUT2   : num  0 1 0 0 2 3 0 4 2 1 ...\n",
      " $ MAUT0   : num  1 2 2 0 1 3 1 2 3 2 ...\n",
      " $ MZFONDS : num  8 6 9 7 5 9 9 6 7 6 ...\n",
      " $ MZPART  : num  1 3 0 2 4 0 0 3 2 3 ...\n",
      " $ MINKM30 : num  0 2 4 1 0 5 4 2 7 2 ...\n",
      " $ MINK3045: num  4 0 5 5 0 2 3 5 2 3 ...\n",
      " $ MINK4575: num  5 5 0 3 9 3 3 3 1 3 ...\n",
      " $ MINK7512: num  0 2 0 0 0 0 0 0 0 1 ...\n",
      " $ MINK123M: num  0 0 0 0 0 0 0 0 0 0 ...\n",
      " $ MINKGEM : num  4 5 3 4 6 3 3 3 2 4 ...\n",
      " $ MKOOPKLA: num  3 4 4 4 3 3 5 3 3 7 ...\n",
      " $ PWAPART : num  0 2 2 0 0 0 0 0 0 2 ...\n",
      " $ PWABEDR : num  0 0 0 0 0 0 0 0 0 0 ...\n",
      " $ PWALAND : num  0 0 0 0 0 0 0 0 0 0 ...\n",
      " $ PPERSAUT: num  6 0 6 6 0 6 6 0 5 0 ...\n",
      " $ PBESAUT : num  0 0 0 0 0 0 0 0 0 0 ...\n",
      " $ PMOTSCO : num  0 0 0 0 0 0 0 0 0 0 ...\n",
      " $ PVRAAUT : num  0 0 0 0 0 0 0 0 0 0 ...\n",
      " $ PAANHANG: num  0 0 0 0 0 0 0 0 0 0 ...\n",
      " $ PTRACTOR: num  0 0 0 0 0 0 0 0 0 0 ...\n",
      " $ PWERKT  : num  0 0 0 0 0 0 0 0 0 0 ...\n",
      " $ PBROM   : num  0 0 0 0 0 0 0 3 0 0 ...\n",
      " $ PLEVEN  : num  0 0 0 0 0 0 0 0 0 0 ...\n",
      " $ PPERSONG: num  0 0 0 0 0 0 0 0 0 0 ...\n",
      " $ PGEZONG : num  0 0 0 0 0 0 0 0 0 0 ...\n",
      " $ PWAOREG : num  0 0 0 0 0 0 0 0 0 0 ...\n",
      " $ PBRAND  : num  5 2 2 2 6 0 0 0 0 3 ...\n",
      " $ PZEILPL : num  0 0 0 0 0 0 0 0 0 0 ...\n",
      " $ PPLEZIER: num  0 0 0 0 0 0 0 0 0 0 ...\n",
      " $ PFIETS  : num  0 0 0 0 0 0 0 0 0 0 ...\n",
      " $ PINBOED : num  0 0 0 0 0 0 0 0 0 0 ...\n",
      " $ PBYSTAND: num  0 0 0 0 0 0 0 0 0 0 ...\n",
      " $ AWAPART : num  0 2 1 0 0 0 0 0 0 1 ...\n",
      " $ AWABEDR : num  0 0 0 0 0 0 0 0 0 0 ...\n",
      " $ AWALAND : num  0 0 0 0 0 0 0 0 0 0 ...\n",
      " $ APERSAUT: num  1 0 1 1 0 1 1 0 1 0 ...\n",
      " $ ABESAUT : num  0 0 0 0 0 0 0 0 0 0 ...\n",
      " $ AMOTSCO : num  0 0 0 0 0 0 0 0 0 0 ...\n",
      " $ AVRAAUT : num  0 0 0 0 0 0 0 0 0 0 ...\n",
      " $ AAANHANG: num  0 0 0 0 0 0 0 0 0 0 ...\n",
      " $ ATRACTOR: num  0 0 0 0 0 0 0 0 0 0 ...\n",
      " $ AWERKT  : num  0 0 0 0 0 0 0 0 0 0 ...\n",
      " $ ABROM   : num  0 0 0 0 0 0 0 1 0 0 ...\n",
      " $ ALEVEN  : num  0 0 0 0 0 0 0 0 0 0 ...\n",
      " $ APERSONG: num  0 0 0 0 0 0 0 0 0 0 ...\n",
      " $ AGEZONG : num  0 0 0 0 0 0 0 0 0 0 ...\n",
      " $ AWAOREG : num  0 0 0 0 0 0 0 0 0 0 ...\n",
      " $ ABRAND  : num  1 1 1 1 1 0 0 0 0 1 ...\n",
      " $ AZEILPL : num  0 0 0 0 0 0 0 0 0 0 ...\n",
      " $ APLEZIER: num  0 0 0 0 0 0 0 0 0 0 ...\n",
      " $ AFIETS  : num  0 0 0 0 0 0 0 0 0 0 ...\n",
      " $ AINBOED : num  0 0 0 0 0 0 0 0 0 0 ...\n",
      " $ ABYSTAND: num  0 0 0 0 0 0 0 0 0 0 ...\n",
      " $ Purchase: Factor w/ 2 levels \"No\",\"Yes\": 1 1 1 1 1 1 1 1 1 1 ...\n"
     ]
    }
   ],
   "source": [
    "str(Caravan)"
   ]
  },
  {
   "cell_type": "code",
   "execution_count": 4,
   "metadata": {},
   "outputs": [
    {
     "data": {
      "text/html": [
       "<dl class=dl-horizontal>\n",
       "\t<dt>No</dt>\n",
       "\t\t<dd>5474</dd>\n",
       "\t<dt>Yes</dt>\n",
       "\t\t<dd>348</dd>\n",
       "</dl>\n"
      ],
      "text/latex": [
       "\\begin{description*}\n",
       "\\item[No] 5474\n",
       "\\item[Yes] 348\n",
       "\\end{description*}\n"
      ],
      "text/markdown": [
       "No\n",
       ":   5474Yes\n",
       ":   348\n",
       "\n"
      ],
      "text/plain": [
       "  No  Yes \n",
       "5474  348 "
      ]
     },
     "metadata": {},
     "output_type": "display_data"
    }
   ],
   "source": [
    "# Checking the number of customers who purchased insurance\n",
    "summary(Caravan$Purchase)"
   ]
  },
  {
   "cell_type": "code",
   "execution_count": 5,
   "metadata": {},
   "outputs": [
    {
     "data": {
      "text/html": [
       "FALSE"
      ],
      "text/latex": [
       "FALSE"
      ],
      "text/markdown": [
       "FALSE"
      ],
      "text/plain": [
       "[1] FALSE"
      ]
     },
     "metadata": {},
     "output_type": "display_data"
    }
   ],
   "source": [
    "# Checking for NA values\n",
    "any(is.na(Caravan))"
   ]
  },
  {
   "cell_type": "code",
   "execution_count": 6,
   "metadata": {},
   "outputs": [
    {
     "data": {
      "text/html": [
       "165.037847395189"
      ],
      "text/latex": [
       "165.037847395189"
      ],
      "text/markdown": [
       "165.037847395189"
      ],
      "text/plain": [
       "[1] 165.0378"
      ]
     },
     "metadata": {},
     "output_type": "display_data"
    },
    {
     "data": {
      "text/html": [
       "0.164707781931954"
      ],
      "text/latex": [
       "0.164707781931954"
      ],
      "text/markdown": [
       "0.164707781931954"
      ],
      "text/plain": [
       "[1] 0.1647078"
      ]
     },
     "metadata": {},
     "output_type": "display_data"
    }
   ],
   "source": [
    "# checking the variance of column 1\n",
    "var(Caravan[, 1])\n",
    "\n",
    "# Checking the variance of column 2\n",
    "var(Caravan[,2])"
   ]
  },
  {
   "cell_type": "markdown",
   "metadata": {},
   "source": [
    "**Clearly the scales are very different for these two columns. For KNN, it is very important to normalise the data**"
   ]
  },
  {
   "cell_type": "code",
   "execution_count": 7,
   "metadata": {},
   "outputs": [
    {
     "data": {
      "text/html": [
       "<ol class=list-inline>\n",
       "\t<li>No</li>\n",
       "\t<li>No</li>\n",
       "\t<li>No</li>\n",
       "\t<li>No</li>\n",
       "\t<li>No</li>\n",
       "\t<li>No</li>\n",
       "</ol>\n",
       "\n",
       "<details>\n",
       "\t<summary style=display:list-item;cursor:pointer>\n",
       "\t\t<strong>Levels</strong>:\n",
       "\t</summary>\n",
       "\t<ol class=list-inline>\n",
       "\t\t<li>'No'</li>\n",
       "\t\t<li>'Yes'</li>\n",
       "\t</ol>\n",
       "</details>"
      ],
      "text/latex": [
       "\\begin{enumerate*}\n",
       "\\item No\n",
       "\\item No\n",
       "\\item No\n",
       "\\item No\n",
       "\\item No\n",
       "\\item No\n",
       "\\end{enumerate*}\n",
       "\n",
       "\\emph{Levels}: \\begin{enumerate*}\n",
       "\\item 'No'\n",
       "\\item 'Yes'\n",
       "\\end{enumerate*}\n"
      ],
      "text/markdown": [
       "1. No\n",
       "2. No\n",
       "3. No\n",
       "4. No\n",
       "5. No\n",
       "6. No\n",
       "\n",
       "\n",
       "\n",
       "**Levels**: 1. 'No'\n",
       "2. 'Yes'\n",
       "\n",
       "\n"
      ],
      "text/plain": [
       "[1] No No No No No No\n",
       "Levels: No Yes"
      ]
     },
     "metadata": {},
     "output_type": "display_data"
    }
   ],
   "source": [
    "# saving the dependent variable\n",
    "purchase <- Caravan[,\"Purchase\"]\n",
    "head(purchase)"
   ]
  },
  {
   "cell_type": "code",
   "execution_count": 8,
   "metadata": {},
   "outputs": [],
   "source": [
    "# standardize the independent variables. Removing 86 because that is the dependent variable\n",
    "standardized.Caravan <- scale(Caravan[,-86])"
   ]
  },
  {
   "cell_type": "code",
   "execution_count": 9,
   "metadata": {},
   "outputs": [
    {
     "name": "stdout",
     "output_type": "stream",
     "text": [
      "[1] 1\n",
      "[1] 1\n"
     ]
    }
   ],
   "source": [
    "# confirming that we have standardized the variables\n",
    "print(var(standardized.Caravan[, 1]))\n",
    "print(var(standardized.Caravan[, 2]))"
   ]
  },
  {
   "cell_type": "code",
   "execution_count": 10,
   "metadata": {},
   "outputs": [],
   "source": [
    "# Train Test split of data\n",
    "test.index <- 1:1000\n",
    "test.data <- standardized.Caravan[test.index, ]\n",
    "test.dependent.var <- purchase[test.index]\n",
    "\n",
    "train.data <- standardized.Caravan[-test.index, ]\n",
    "train.dependent.var <- purchase[-test.index]"
   ]
  },
  {
   "cell_type": "code",
   "execution_count": 12,
   "metadata": {},
   "outputs": [],
   "source": [
    "library(class)"
   ]
  },
  {
   "cell_type": "code",
   "execution_count": 13,
   "metadata": {},
   "outputs": [],
   "source": [
    "# Building KNN model\n",
    "set.seed(101)\n",
    "\n",
    "# using train.dependent.var, the model will try to predict y for test.data\n",
    "predicted.y <- knn(train.data, test.data, train.dependent.var, k=1)"
   ]
  },
  {
   "cell_type": "code",
   "execution_count": 14,
   "metadata": {},
   "outputs": [
    {
     "data": {
      "text/html": [
       "<ol class=list-inline>\n",
       "\t<li>No</li>\n",
       "\t<li>No</li>\n",
       "\t<li>No</li>\n",
       "\t<li>No</li>\n",
       "\t<li>No</li>\n",
       "\t<li>No</li>\n",
       "</ol>\n",
       "\n",
       "<details>\n",
       "\t<summary style=display:list-item;cursor:pointer>\n",
       "\t\t<strong>Levels</strong>:\n",
       "\t</summary>\n",
       "\t<ol class=list-inline>\n",
       "\t\t<li>'No'</li>\n",
       "\t\t<li>'Yes'</li>\n",
       "\t</ol>\n",
       "</details>"
      ],
      "text/latex": [
       "\\begin{enumerate*}\n",
       "\\item No\n",
       "\\item No\n",
       "\\item No\n",
       "\\item No\n",
       "\\item No\n",
       "\\item No\n",
       "\\end{enumerate*}\n",
       "\n",
       "\\emph{Levels}: \\begin{enumerate*}\n",
       "\\item 'No'\n",
       "\\item 'Yes'\n",
       "\\end{enumerate*}\n"
      ],
      "text/markdown": [
       "1. No\n",
       "2. No\n",
       "3. No\n",
       "4. No\n",
       "5. No\n",
       "6. No\n",
       "\n",
       "\n",
       "\n",
       "**Levels**: 1. 'No'\n",
       "2. 'Yes'\n",
       "\n",
       "\n"
      ],
      "text/plain": [
       "[1] No No No No No No\n",
       "Levels: No Yes"
      ]
     },
     "metadata": {},
     "output_type": "display_data"
    }
   ],
   "source": [
    "head(predicted.y)"
   ]
  },
  {
   "cell_type": "code",
   "execution_count": 15,
   "metadata": {},
   "outputs": [
    {
     "name": "stdout",
     "output_type": "stream",
     "text": [
      "[1] 0.116\n"
     ]
    }
   ],
   "source": [
    "# Evaluate the model\n",
    "misclass.err <- mean(test.dependent.var != predicted.y)\n",
    "\n",
    "print(misclass.err)"
   ]
  },
  {
   "cell_type": "markdown",
   "metadata": {},
   "source": [
    "### How to choose K value"
   ]
  },
  {
   "cell_type": "code",
   "execution_count": 16,
   "metadata": {},
   "outputs": [
    {
     "name": "stdout",
     "output_type": "stream",
     "text": [
      "[1] 0.073\n"
     ]
    }
   ],
   "source": [
    "# suppose we say k=3\n",
    "predicted.y <- knn(train.data, test.data, train.dependent.var, k=3)\n",
    "\n",
    "misclass.err <- mean(test.dependent.var != predicted.y)\n",
    "\n",
    "print(misclass.err)"
   ]
  },
  {
   "cell_type": "markdown",
   "metadata": {},
   "source": [
    "**The misclassification rate has come down from 11.3% to 7.3% when we choose k=3**"
   ]
  },
  {
   "cell_type": "code",
   "execution_count": 17,
   "metadata": {},
   "outputs": [
    {
     "name": "stdout",
     "output_type": "stream",
     "text": [
      "[1] 0.066\n"
     ]
    }
   ],
   "source": [
    "# suppose we say k=5\n",
    "predicted.y <- knn(train.data, test.data, train.dependent.var, k=5)\n",
    "\n",
    "misclass.err <- mean(test.dependent.var != predicted.y)\n",
    "\n",
    "print(misclass.err)"
   ]
  },
  {
   "cell_type": "code",
   "execution_count": 18,
   "metadata": {},
   "outputs": [
    {
     "name": "stdout",
     "output_type": "stream",
     "text": [
      " [1] 0.116 0.107 0.074 0.070 0.066 0.064 0.062 0.061 0.058 0.058 0.059 0.058\n",
      "[13] 0.059 0.059 0.059 0.059 0.059 0.059 0.059 0.059\n"
     ]
    }
   ],
   "source": [
    "# So now it is 6.6%. But how do we know the ideal k value? For that we will do a for loop that will run the model for different values of k\n",
    "\n",
    "predicted.y <- NULL\n",
    "err.rate <- NULL\n",
    "\n",
    "# Setting as NULL because these are going to be vectors\n",
    "\n",
    "for (i in 1:20){\n",
    "  set.seed(101)\n",
    "  predicted.y <- knn(train.data, test.data, train.dependent.var, k=i)\n",
    "  \n",
    "  err.rate[i] <- mean(test.dependent.var != predicted.y)\n",
    "  \n",
    "  \n",
    "}\n",
    "print(err.rate)"
   ]
  },
  {
   "cell_type": "code",
   "execution_count": 19,
   "metadata": {},
   "outputs": [
    {
     "name": "stderr",
     "output_type": "stream",
     "text": [
      "Registered S3 methods overwritten by 'ggplot2':\n",
      "  method         from \n",
      "  [.quosures     rlang\n",
      "  c.quosures     rlang\n",
      "  print.quosures rlang\n"
     ]
    },
    {
     "data": {
      "text/html": [
       "<table>\n",
       "<thead><tr><th scope=col>err.rate</th><th scope=col>k.values</th></tr></thead>\n",
       "<tbody>\n",
       "\t<tr><td>0.116</td><td> 1   </td></tr>\n",
       "\t<tr><td>0.107</td><td> 2   </td></tr>\n",
       "\t<tr><td>0.074</td><td> 3   </td></tr>\n",
       "\t<tr><td>0.070</td><td> 4   </td></tr>\n",
       "\t<tr><td>0.066</td><td> 5   </td></tr>\n",
       "\t<tr><td>0.064</td><td> 6   </td></tr>\n",
       "\t<tr><td>0.062</td><td> 7   </td></tr>\n",
       "\t<tr><td>0.061</td><td> 8   </td></tr>\n",
       "\t<tr><td>0.058</td><td> 9   </td></tr>\n",
       "\t<tr><td>0.058</td><td>10   </td></tr>\n",
       "\t<tr><td>0.059</td><td>11   </td></tr>\n",
       "\t<tr><td>0.058</td><td>12   </td></tr>\n",
       "\t<tr><td>0.059</td><td>13   </td></tr>\n",
       "\t<tr><td>0.059</td><td>14   </td></tr>\n",
       "\t<tr><td>0.059</td><td>15   </td></tr>\n",
       "\t<tr><td>0.059</td><td>16   </td></tr>\n",
       "\t<tr><td>0.059</td><td>17   </td></tr>\n",
       "\t<tr><td>0.059</td><td>18   </td></tr>\n",
       "\t<tr><td>0.059</td><td>19   </td></tr>\n",
       "\t<tr><td>0.059</td><td>20   </td></tr>\n",
       "</tbody>\n",
       "</table>\n"
      ],
      "text/latex": [
       "\\begin{tabular}{r|ll}\n",
       " err.rate & k.values\\\\\n",
       "\\hline\n",
       "\t 0.116 &  1   \\\\\n",
       "\t 0.107 &  2   \\\\\n",
       "\t 0.074 &  3   \\\\\n",
       "\t 0.070 &  4   \\\\\n",
       "\t 0.066 &  5   \\\\\n",
       "\t 0.064 &  6   \\\\\n",
       "\t 0.062 &  7   \\\\\n",
       "\t 0.061 &  8   \\\\\n",
       "\t 0.058 &  9   \\\\\n",
       "\t 0.058 & 10   \\\\\n",
       "\t 0.059 & 11   \\\\\n",
       "\t 0.058 & 12   \\\\\n",
       "\t 0.059 & 13   \\\\\n",
       "\t 0.059 & 14   \\\\\n",
       "\t 0.059 & 15   \\\\\n",
       "\t 0.059 & 16   \\\\\n",
       "\t 0.059 & 17   \\\\\n",
       "\t 0.059 & 18   \\\\\n",
       "\t 0.059 & 19   \\\\\n",
       "\t 0.059 & 20   \\\\\n",
       "\\end{tabular}\n"
      ],
      "text/markdown": [
       "\n",
       "| err.rate | k.values |\n",
       "|---|---|\n",
       "| 0.116 |  1    |\n",
       "| 0.107 |  2    |\n",
       "| 0.074 |  3    |\n",
       "| 0.070 |  4    |\n",
       "| 0.066 |  5    |\n",
       "| 0.064 |  6    |\n",
       "| 0.062 |  7    |\n",
       "| 0.061 |  8    |\n",
       "| 0.058 |  9    |\n",
       "| 0.058 | 10    |\n",
       "| 0.059 | 11    |\n",
       "| 0.058 | 12    |\n",
       "| 0.059 | 13    |\n",
       "| 0.059 | 14    |\n",
       "| 0.059 | 15    |\n",
       "| 0.059 | 16    |\n",
       "| 0.059 | 17    |\n",
       "| 0.059 | 18    |\n",
       "| 0.059 | 19    |\n",
       "| 0.059 | 20    |\n",
       "\n"
      ],
      "text/plain": [
       "   err.rate k.values\n",
       "1  0.116     1      \n",
       "2  0.107     2      \n",
       "3  0.074     3      \n",
       "4  0.070     4      \n",
       "5  0.066     5      \n",
       "6  0.064     6      \n",
       "7  0.062     7      \n",
       "8  0.061     8      \n",
       "9  0.058     9      \n",
       "10 0.058    10      \n",
       "11 0.059    11      \n",
       "12 0.058    12      \n",
       "13 0.059    13      \n",
       "14 0.059    14      \n",
       "15 0.059    15      \n",
       "16 0.059    16      \n",
       "17 0.059    17      \n",
       "18 0.059    18      \n",
       "19 0.059    19      \n",
       "20 0.059    20      "
      ]
     },
     "metadata": {},
     "output_type": "display_data"
    }
   ],
   "source": [
    "# visualize using K Elbow method\n",
    "\n",
    "library(ggplot2)\n",
    "k.values <- 1:20\n",
    "error.df <- data.frame(err.rate, k.values)\n",
    "error.df"
   ]
  },
  {
   "cell_type": "code",
   "execution_count": 20,
   "metadata": {},
   "outputs": [
    {
     "data": {
      "image/png": "[encoded data removed]",
      "text/plain": [
       "plot without title"
      ]
     },
     "metadata": {},
     "output_type": "display_data"
    }
   ],
   "source": [
    "ggplot(error.df, aes(x=k.values, y=err.rate)) + geom_point() + geom_line(lty = 'dotted', color ='red')"
   ]
  },
  {
   "cell_type": "markdown",
   "metadata": {},
   "source": [
    "**It looks like after k=9, misclass rate flat lines. so that's where our elbow lies. So we will choose k = 9 as our ideal value.**"
   ]
  },
  {
   "cell_type": "code",
   "execution_count": 21,
   "metadata": {},
   "outputs": [
    {
     "name": "stdout",
     "output_type": "stream",
     "text": [
      "[1] 0.058\n"
     ]
    }
   ],
   "source": [
    "predicted.y <- knn(train.data, test.data, train.dependent.var, k=9)\n",
    "\n",
    "misclass.err <- mean(test.dependent.var != predicted.y)\n",
    "\n",
    "print(misclass.err)"
   ]
  },
  {
   "cell_type": "code",
   "execution_count": 22,
   "metadata": {},
   "outputs": [
    {
     "data": {
      "text/html": [
       "<ol class=list-inline>\n",
       "\t<li>No</li>\n",
       "\t<li>No</li>\n",
       "\t<li>No</li>\n",
       "\t<li>No</li>\n",
       "\t<li>No</li>\n",
       "\t<li>No</li>\n",
       "\t<li>No</li>\n",
       "\t<li>No</li>\n",
       "\t<li>No</li>\n",
       "\t<li>No</li>\n",
       "</ol>\n",
       "\n",
       "<details>\n",
       "\t<summary style=display:list-item;cursor:pointer>\n",
       "\t\t<strong>Levels</strong>:\n",
       "\t</summary>\n",
       "\t<ol class=list-inline>\n",
       "\t\t<li>'No'</li>\n",
       "\t\t<li>'Yes'</li>\n",
       "\t</ol>\n",
       "</details>"
      ],
      "text/latex": [
       "\\begin{enumerate*}\n",
       "\\item No\n",
       "\\item No\n",
       "\\item No\n",
       "\\item No\n",
       "\\item No\n",
       "\\item No\n",
       "\\item No\n",
       "\\item No\n",
       "\\item No\n",
       "\\item No\n",
       "\\end{enumerate*}\n",
       "\n",
       "\\emph{Levels}: \\begin{enumerate*}\n",
       "\\item 'No'\n",
       "\\item 'Yes'\n",
       "\\end{enumerate*}\n"
      ],
      "text/markdown": [
       "1. No\n",
       "2. No\n",
       "3. No\n",
       "4. No\n",
       "5. No\n",
       "6. No\n",
       "7. No\n",
       "8. No\n",
       "9. No\n",
       "10. No\n",
       "\n",
       "\n",
       "\n",
       "**Levels**: 1. 'No'\n",
       "2. 'Yes'\n",
       "\n",
       "\n"
      ],
      "text/plain": [
       " [1] No No No No No No No No No No\n",
       "Levels: No Yes"
      ]
     },
     "metadata": {},
     "output_type": "display_data"
    }
   ],
   "source": [
    "head(predicted.y, 10)"
   ]
  },
  {
   "cell_type": "code",
   "execution_count": null,
   "metadata": {},
   "outputs": [],
   "source": []
  }
 ],
 "metadata": {
  "kernelspec": {
   "display_name": "R",
   "language": "R",
   "name": "ir"
  },
  "language_info": {
   "codemirror_mode": "r",
   "file_extension": ".r",
   "mimetype": "text/x-r-source",
   "name": "R",
   "pygments_lexer": "r",
   "version": "3.6.1"
  }
 },
 "nbformat": 4,
 "nbformat_minor": 2
}
